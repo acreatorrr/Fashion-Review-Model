{
  "metadata": {
    "kernelspec": {
      "language": "python",
      "display_name": "Python 3",
      "name": "python3"
    },
    "language_info": {
      "name": "python",
      "version": "3.10.12",
      "mimetype": "text/x-python",
      "codemirror_mode": {
        "name": "ipython",
        "version": 3
      },
      "pygments_lexer": "ipython3",
      "nbconvert_exporter": "python",
      "file_extension": ".py"
    },
    "kaggle": {
      "accelerator": "none",
      "dataSources": [
        {
          "sourceId": 329006,
          "sourceType": "datasetVersion",
          "datasetId": 139630
        },
        {
          "sourceId": 10693850,
          "sourceType": "datasetVersion",
          "datasetId": 6626295
        }
      ],
      "dockerImageVersionId": 30886,
      "isInternetEnabled": false,
      "language": "python",
      "sourceType": "notebook",
      "isGpuEnabled": false
    },
    "colab": {
      "name": "Fashion_Review",
      "provenance": [],
      "include_colab_link": true
    }
  },
  "nbformat_minor": 0,
  "nbformat": 4,
  "cells": [
    {
      "cell_type": "markdown",
      "metadata": {
        "id": "view-in-github",
        "colab_type": "text"
      },
      "source": [
        "<a href=\"https://colab.research.google.com/github/acreatorrr/Fashion-Review-Model/blob/main/Fashion_Review.ipynb\" target=\"_parent\"><img src=\"https://colab.research.google.com/assets/colab-badge.svg\" alt=\"Open In Colab\"/></a>"
      ]
    },
    {
      "source": [
        "# IMPORTANT: SOME KAGGLE DATA SOURCES ARE PRIVATE\n",
        "# RUN THIS CELL IN ORDER TO IMPORT YOUR KAGGLE DATA SOURCES.\n",
        "import kagglehub\n",
        "kagglehub.login()\n"
      ],
      "metadata": {
        "id": "8XwLtC1TJsB2"
      },
      "cell_type": "code",
      "outputs": [],
      "execution_count": null
    },
    {
      "source": [
        "# IMPORTANT: RUN THIS CELL IN ORDER TO IMPORT YOUR KAGGLE DATA SOURCES,\n",
        "# THEN FEEL FREE TO DELETE THIS CELL.\n",
        "# NOTE: THIS NOTEBOOK ENVIRONMENT DIFFERS FROM KAGGLE'S PYTHON\n",
        "# ENVIRONMENT SO THERE MAY BE MISSING LIBRARIES USED BY YOUR\n",
        "# NOTEBOOK.\n",
        "\n",
        "paramaggarwal_fashion_product_images_dataset_path = kagglehub.dataset_download('paramaggarwal/fashion-product-images-dataset')\n",
        "praveenavala_not_seen_path = kagglehub.dataset_download('praveenavala/not-seen')\n",
        "\n",
        "print('Data source import complete.')\n"
      ],
      "metadata": {
        "id": "6cO2pT4HJsB4"
      },
      "cell_type": "code",
      "outputs": [],
      "execution_count": null
    },
    {
      "cell_type": "code",
      "source": [
        "# Step 1: Import Libraries\n",
        "import pandas as pd\n",
        "import numpy as np\n",
        "import tensorflow as tf\n",
        "from tensorflow.keras import layers, models\n",
        "from sklearn.preprocessing import LabelEncoder\n",
        "from sklearn.model_selection import train_test_split\n",
        "from tensorflow.keras.utils import to_categorical\n",
        "import os\n",
        "import matplotlib.pyplot as plt"
      ],
      "metadata": {
        "trusted": true,
        "execution": {
          "iopub.status.busy": "2025-02-08T09:55:51.969044Z",
          "iopub.execute_input": "2025-02-08T09:55:51.969483Z",
          "iopub.status.idle": "2025-02-08T09:56:09.658617Z",
          "shell.execute_reply.started": "2025-02-08T09:55:51.969448Z",
          "shell.execute_reply": "2025-02-08T09:56:09.65744Z"
        },
        "id": "uBoPCYD7JsB5"
      },
      "outputs": [],
      "execution_count": null
    },
    {
      "cell_type": "code",
      "source": [
        "# Load the Dataset\n",
        "\n",
        "styles_df = pd.read_csv('/kaggle/input/fashion-product-images-dataset/fashion-dataset/styles.csv', on_bad_lines='skip')\n",
        "print(styles_df.head())"
      ],
      "metadata": {
        "trusted": true,
        "execution": {
          "iopub.status.busy": "2025-02-08T09:56:29.061014Z",
          "iopub.execute_input": "2025-02-08T09:56:29.061713Z",
          "iopub.status.idle": "2025-02-08T09:56:29.272364Z",
          "shell.execute_reply.started": "2025-02-08T09:56:29.061677Z",
          "shell.execute_reply": "2025-02-08T09:56:29.271291Z"
        },
        "id": "6RdcGES4JsB6"
      },
      "outputs": [],
      "execution_count": null
    },
    {
      "cell_type": "code",
      "source": [
        "# Update the image path\n",
        "styles_df['image_paths'] = styles_df['id'].apply(lambda x: f'/kaggle/input/fashion-product-images-dataset/fashion-dataset/images/{x}.jpg')"
      ],
      "metadata": {
        "trusted": true,
        "execution": {
          "iopub.status.busy": "2025-02-08T08:04:02.145788Z",
          "iopub.execute_input": "2025-02-08T08:04:02.146149Z",
          "iopub.status.idle": "2025-02-08T08:04:02.174852Z",
          "shell.execute_reply.started": "2025-02-08T08:04:02.146123Z",
          "shell.execute_reply": "2025-02-08T08:04:02.173664Z"
        },
        "id": "Z1wk9eNEJsB6"
      },
      "outputs": [],
      "execution_count": null
    },
    {
      "cell_type": "code",
      "source": [
        "# Display the first few rows of the updated DataFrame\n",
        "print(styles_df.head())"
      ],
      "metadata": {
        "trusted": true,
        "execution": {
          "iopub.status.busy": "2025-02-08T08:04:05.542554Z",
          "iopub.execute_input": "2025-02-08T08:04:05.542896Z",
          "iopub.status.idle": "2025-02-08T08:04:05.55333Z",
          "shell.execute_reply.started": "2025-02-08T08:04:05.54287Z",
          "shell.execute_reply": "2025-02-08T08:04:05.551969Z"
        },
        "id": "4KeuSCI2JsB7"
      },
      "outputs": [],
      "execution_count": null
    },
    {
      "cell_type": "code",
      "source": [
        "import seaborn as sns\n",
        "# Plot distribution of articleType\n",
        "plt.figure(figsize=(8, 16))\n",
        "sns.countplot(y='articleType', data=styles_df, order=styles_df['articleType'].value_counts().index)\n",
        "plt.title('Distribution of Product Types')\n",
        "plt.show()"
      ],
      "metadata": {
        "trusted": true,
        "execution": {
          "iopub.status.busy": "2025-02-08T09:57:35.779496Z",
          "iopub.execute_input": "2025-02-08T09:57:35.780186Z",
          "iopub.status.idle": "2025-02-08T09:57:37.49285Z",
          "shell.execute_reply.started": "2025-02-08T09:57:35.780153Z",
          "shell.execute_reply": "2025-02-08T09:57:37.491584Z"
        },
        "id": "jOY5_ao_JsB7"
      },
      "outputs": [],
      "execution_count": null
    },
    {
      "cell_type": "code",
      "source": [
        "# Plot\n",
        "plt.figure(figsize=(12, 6))\n",
        "sns.countplot(y='baseColour', data=styles_df, order=styles_df['baseColour'].value_counts().index)\n",
        "plt.title('Distribution of Product Colors')\n",
        "plt.show()"
      ],
      "metadata": {
        "trusted": true,
        "execution": {
          "iopub.status.busy": "2025-02-08T09:58:06.368477Z",
          "iopub.execute_input": "2025-02-08T09:58:06.368846Z",
          "iopub.status.idle": "2025-02-08T09:58:06.922992Z",
          "shell.execute_reply.started": "2025-02-08T09:58:06.368817Z",
          "shell.execute_reply": "2025-02-08T09:58:06.921899Z"
        },
        "id": "KL2bQcVKJsB8"
      },
      "outputs": [],
      "execution_count": null
    },
    {
      "cell_type": "code",
      "source": [
        "styles_df=styles_df[0:20000]\n",
        "styles_df.shape"
      ],
      "metadata": {
        "trusted": true,
        "execution": {
          "iopub.status.busy": "2025-02-08T08:04:56.903596Z",
          "iopub.execute_input": "2025-02-08T08:04:56.903941Z",
          "iopub.status.idle": "2025-02-08T08:04:56.911123Z",
          "shell.execute_reply.started": "2025-02-08T08:04:56.903916Z",
          "shell.execute_reply": "2025-02-08T08:04:56.909817Z"
        },
        "id": "89eCWyTFJsB8"
      },
      "outputs": [],
      "execution_count": null
    },
    {
      "cell_type": "code",
      "source": [
        "#  Missing Values\n",
        "styles_df.dropna(subset=['articleType'], inplace=True)\n",
        "print(styles_df.isnull().sum())"
      ],
      "metadata": {
        "trusted": true,
        "execution": {
          "iopub.status.busy": "2025-02-08T08:05:05.910497Z",
          "iopub.execute_input": "2025-02-08T08:05:05.910885Z",
          "iopub.status.idle": "2025-02-08T08:05:05.94499Z",
          "shell.execute_reply.started": "2025-02-08T08:05:05.910855Z",
          "shell.execute_reply": "2025-02-08T08:05:05.943749Z"
        },
        "id": "UlfQmmpjJsB8"
      },
      "outputs": [],
      "execution_count": null
    },
    {
      "cell_type": "code",
      "source": [
        "# Encode labels\n",
        "article_encoder = LabelEncoder()\n",
        "styles_df['articleType_encoded'] = article_encoder.fit_transform(styles_df['articleType'])"
      ],
      "metadata": {
        "trusted": true,
        "execution": {
          "iopub.status.busy": "2025-02-08T08:05:16.543685Z",
          "iopub.execute_input": "2025-02-08T08:05:16.544047Z",
          "iopub.status.idle": "2025-02-08T08:05:16.553629Z",
          "shell.execute_reply.started": "2025-02-08T08:05:16.54399Z",
          "shell.execute_reply": "2025-02-08T08:05:16.552477Z"
        },
        "id": "yUJN3CYHJsB9"
      },
      "outputs": [],
      "execution_count": null
    },
    {
      "cell_type": "code",
      "source": [
        "def image_exists(image_paths):\n",
        "    return os.path.exists(image_paths)\n",
        "\n",
        "styles_df = styles_df[styles_df['image_paths'].apply(image_exists)]\n",
        "print(f\"Number of rows after filtering: {len(styles_df)}\")"
      ],
      "metadata": {
        "trusted": true,
        "execution": {
          "iopub.status.busy": "2025-02-08T08:05:27.143086Z",
          "iopub.execute_input": "2025-02-08T08:05:27.143431Z",
          "iopub.status.idle": "2025-02-08T08:06:11.942673Z",
          "shell.execute_reply.started": "2025-02-08T08:05:27.143405Z",
          "shell.execute_reply": "2025-02-08T08:06:11.941576Z"
        },
        "id": "Nu4qFisiJsB9"
      },
      "outputs": [],
      "execution_count": null
    },
    {
      "cell_type": "code",
      "source": [
        "article_encoder = LabelEncoder()\n",
        "color_encoder = LabelEncoder()\n",
        "season_encoder = LabelEncoder()\n",
        "gender_encoder = LabelEncoder()\n",
        "\n",
        "styles_df['articleType_encoded'] = article_encoder.fit_transform(styles_df['articleType'])\n",
        "styles_df['baseColour_encoded'] = color_encoder.fit_transform(styles_df['baseColour'])\n",
        "styles_df['season_encoded'] = season_encoder.fit_transform(styles_df['season'])\n",
        "styles_df['gender_encoded'] = gender_encoder.fit_transform(styles_df['gender'])"
      ],
      "metadata": {
        "trusted": true,
        "execution": {
          "iopub.status.busy": "2025-02-08T08:06:45.624511Z",
          "iopub.execute_input": "2025-02-08T08:06:45.624837Z",
          "iopub.status.idle": "2025-02-08T08:06:45.650258Z",
          "shell.execute_reply.started": "2025-02-08T08:06:45.624812Z",
          "shell.execute_reply": "2025-02-08T08:06:45.649148Z"
        },
        "id": "Ib4Jln2BJsB9"
      },
      "outputs": [],
      "execution_count": null
    },
    {
      "cell_type": "code",
      "source": [
        "def preprocess_image(image_paths, target_size=(64, 64)):\n",
        "    image = tf.keras.preprocessing.image.load_img(image_paths, target_size=target_size)\n",
        "    image = tf.keras.preprocessing.image.img_to_array(image) / 255.0\n",
        "    return image"
      ],
      "metadata": {
        "trusted": true,
        "execution": {
          "iopub.status.busy": "2025-02-08T08:06:49.542668Z",
          "iopub.execute_input": "2025-02-08T08:06:49.542995Z",
          "iopub.status.idle": "2025-02-08T08:06:49.547961Z",
          "shell.execute_reply.started": "2025-02-08T08:06:49.54297Z",
          "shell.execute_reply": "2025-02-08T08:06:49.546782Z"
        },
        "id": "LygIwcVbJsB9"
      },
      "outputs": [],
      "execution_count": null
    },
    {
      "cell_type": "code",
      "source": [
        "def prepare_dataset(df):\n",
        "    images = np.array([preprocess_image(path) for path in df['image_paths']])\n",
        "    article_labels = to_categorical(df['articleType_encoded'], num_classes=len(article_encoder.classes_))\n",
        "    color_labels = to_categorical(df['baseColour_encoded'], num_classes=len(color_encoder.classes_))\n",
        "    season_labels = to_categorical(df['season_encoded'], num_classes=len(season_encoder.classes_))\n",
        "    gender_labels = to_categorical(df['gender_encoded'], num_classes=len(gender_encoder.classes_))\n",
        "    return images, [article_labels, color_labels, season_labels, gender_labels]"
      ],
      "metadata": {
        "trusted": true,
        "execution": {
          "iopub.status.busy": "2025-02-08T08:06:57.738845Z",
          "iopub.execute_input": "2025-02-08T08:06:57.739204Z",
          "iopub.status.idle": "2025-02-08T08:06:57.74496Z",
          "shell.execute_reply.started": "2025-02-08T08:06:57.739178Z",
          "shell.execute_reply": "2025-02-08T08:06:57.743954Z"
        },
        "id": "4dCiYWvQJsB-"
      },
      "outputs": [],
      "execution_count": null
    },
    {
      "cell_type": "code",
      "source": [
        "train_df, test_df = train_test_split(styles_df, test_size=0.2, random_state=42)\n",
        "train_df, val_df = train_test_split(train_df, test_size=0.1, random_state=42)"
      ],
      "metadata": {
        "trusted": true,
        "execution": {
          "iopub.status.busy": "2025-02-08T08:07:05.543519Z",
          "iopub.execute_input": "2025-02-08T08:07:05.543852Z",
          "iopub.status.idle": "2025-02-08T08:07:05.562707Z",
          "shell.execute_reply.started": "2025-02-08T08:07:05.543828Z",
          "shell.execute_reply": "2025-02-08T08:07:05.56154Z"
        },
        "id": "B27maVwXJsB-"
      },
      "outputs": [],
      "execution_count": null
    },
    {
      "cell_type": "code",
      "source": [
        "train_images, train_labels = prepare_dataset(train_df)\n",
        "val_images, val_labels = prepare_dataset(val_df)\n",
        "test_images, test_labels = prepare_dataset(test_df)"
      ],
      "metadata": {
        "trusted": true,
        "execution": {
          "iopub.status.busy": "2025-02-08T08:07:17.170171Z",
          "iopub.execute_input": "2025-02-08T08:07:17.170545Z",
          "iopub.status.idle": "2025-02-08T08:17:26.066238Z",
          "shell.execute_reply.started": "2025-02-08T08:07:17.17051Z",
          "shell.execute_reply": "2025-02-08T08:17:26.064522Z"
        },
        "id": "EmoDG-gnJsB-"
      },
      "outputs": [],
      "execution_count": null
    },
    {
      "cell_type": "code",
      "source": [],
      "metadata": {
        "trusted": true,
        "id": "g3SGnVZDJsB-"
      },
      "outputs": [],
      "execution_count": null
    },
    {
      "cell_type": "code",
      "source": [],
      "metadata": {
        "trusted": true,
        "id": "6fttuorZJsB_"
      },
      "outputs": [],
      "execution_count": null
    },
    {
      "cell_type": "code",
      "source": [
        "input_shape = (64, 64, 3)\n",
        "\n",
        "# Base model (CNN)\n",
        "inputs = layers.Input(shape=input_shape)\n",
        "x = layers.Conv2D(32, (3, 3), activation='relu')(inputs)\n",
        "x = layers.MaxPooling2D((2, 2))(x)\n",
        "x = layers.Conv2D(64, (3, 3), activation='relu')(x)\n",
        "x = layers.MaxPooling2D((2, 2))(x)\n",
        "x = layers.Conv2D(128, (3, 3), activation='relu')(x)\n",
        "x = layers.MaxPooling2D((2, 2))(x)\n",
        "x = layers.Flatten()(x)\n",
        "x = layers.Dense(128, activation='relu')(x)\n",
        "\n",
        "\n",
        "article_output = layers.Dense(len(article_encoder.classes_), activation='softmax', name='article_output')(x)\n",
        "color_output = layers.Dense(len(color_encoder.classes_), activation='softmax', name='color_output')(x)\n",
        "season_output = layers.Dense(len(season_encoder.classes_), activation='softmax', name='season_output')(x)\n",
        "gender_output = layers.Dense(len(gender_encoder.classes_), activation='softmax', name='gender_output')(x)\n",
        "\n"
      ],
      "metadata": {
        "trusted": true,
        "execution": {
          "iopub.status.busy": "2025-02-08T08:17:44.630936Z",
          "iopub.execute_input": "2025-02-08T08:17:44.631394Z",
          "iopub.status.idle": "2025-02-08T08:17:44.839376Z",
          "shell.execute_reply.started": "2025-02-08T08:17:44.63136Z",
          "shell.execute_reply": "2025-02-08T08:17:44.838406Z"
        },
        "id": "3f86vfyZJsB_"
      },
      "outputs": [],
      "execution_count": null
    },
    {
      "cell_type": "code",
      "source": [
        "model = models.Model(inputs, [article_output, color_output, season_output, gender_output])\n",
        "\n",
        "model.compile(optimizer='adam',\n",
        "              loss={'article_output': 'categorical_crossentropy',\n",
        "                    'color_output': 'categorical_crossentropy',\n",
        "                    'season_output': 'categorical_crossentropy',\n",
        "                    'gender_output': 'categorical_crossentropy'},\n",
        "              metrics={'article_output': 'accuracy',\n",
        "                       'color_output': 'accuracy',\n",
        "                       'season_output': 'accuracy',\n",
        "                       'gender_output': 'accuracy'})\n",
        "\n",
        "\n",
        "model.summary()"
      ],
      "metadata": {
        "trusted": true,
        "execution": {
          "iopub.status.busy": "2025-02-08T08:17:56.001315Z",
          "iopub.execute_input": "2025-02-08T08:17:56.001704Z",
          "iopub.status.idle": "2025-02-08T08:17:56.049841Z",
          "shell.execute_reply.started": "2025-02-08T08:17:56.001676Z",
          "shell.execute_reply": "2025-02-08T08:17:56.048845Z"
        },
        "id": "Ozhf4nzVJsB_"
      },
      "outputs": [],
      "execution_count": null
    },
    {
      "cell_type": "code",
      "source": [
        "history = model.fit(train_images, train_labels,\n",
        "                    validation_data=(val_images, val_labels),\n",
        "                    epochs=10, batch_size=32)"
      ],
      "metadata": {
        "trusted": true,
        "execution": {
          "iopub.status.busy": "2025-02-08T08:19:19.260794Z",
          "iopub.execute_input": "2025-02-08T08:19:19.261206Z",
          "iopub.status.idle": "2025-02-08T08:28:20.707781Z",
          "shell.execute_reply.started": "2025-02-08T08:19:19.261179Z",
          "shell.execute_reply": "2025-02-08T08:28:20.706664Z"
        },
        "id": "n5VjXnQ3JsB_"
      },
      "outputs": [],
      "execution_count": null
    },
    {
      "cell_type": "code",
      "source": [
        "# Plot\n",
        "plt.plot(history.history['article_output_accuracy'], label='Article Training Accuracy')\n",
        "plt.plot(history.history['val_article_output_accuracy'], label='Article Validation Accuracy')\n",
        "plt.plot(history.history['color_output_accuracy'], label='Color Training Accuracy')\n",
        "plt.plot(history.history['val_color_output_accuracy'], label='Color Validation Accuracy')\n",
        "plt.xlabel('Epoch')\n",
        "plt.ylabel('Accuracy')\n",
        "plt.legend()\n",
        "plt.show()"
      ],
      "metadata": {
        "trusted": true,
        "execution": {
          "iopub.status.busy": "2025-02-08T08:29:22.564727Z",
          "iopub.execute_input": "2025-02-08T08:29:22.565146Z",
          "iopub.status.idle": "2025-02-08T08:29:22.841409Z",
          "shell.execute_reply.started": "2025-02-08T08:29:22.565114Z",
          "shell.execute_reply": "2025-02-08T08:29:22.84028Z"
        },
        "id": "TLRSvbjAJsB_"
      },
      "outputs": [],
      "execution_count": null
    },
    {
      "cell_type": "code",
      "source": [
        "# Evaluate on the test set\n",
        "test_loss, test_article_loss, test_color_loss, test_season_loss, test_gender_loss, \\\n",
        "test_article_acc, test_color_acc, test_season_acc, test_gender_acc = model.evaluate(test_images, test_labels)\n",
        "\n",
        "print(f\"Test Article Accuracy: {test_article_acc}\")\n",
        "print(f\"Test Color Accuracy: {test_color_acc}\")\n",
        "print(f\"Test Season Accuracy: {test_season_acc}\")\n",
        "print(f\"Test Gender Accuracy: {test_gender_acc}\")"
      ],
      "metadata": {
        "trusted": true,
        "execution": {
          "iopub.status.busy": "2025-02-08T08:30:00.152144Z",
          "iopub.execute_input": "2025-02-08T08:30:00.152564Z",
          "iopub.status.idle": "2025-02-08T08:30:04.900175Z",
          "shell.execute_reply.started": "2025-02-08T08:30:00.152528Z",
          "shell.execute_reply": "2025-02-08T08:30:04.899123Z"
        },
        "id": "IpoTxLSQJsCA"
      },
      "outputs": [],
      "execution_count": null
    },
    {
      "cell_type": "code",
      "source": [
        "from tensorflow.keras.models import load_model\n",
        "from tensorflow.keras.preprocessing import image\n",
        "import numpy as np\n",
        "import matplotlib.pyplot as plt\n",
        "from PIL import Image\n",
        "\n",
        "\n",
        "model = load_model('fashion_model_cnn.h5')\n",
        "\n",
        "def predict_fashion(image_path):\n",
        "\n",
        "    img = Image.open(image_path)\n",
        "    plt.imshow(img)\n",
        "    plt.axis('off')\n",
        "    plt.title(\"Input Image\")\n",
        "    plt.show()\n",
        "\n",
        "    img = image.load_img(image_path, target_size=(64, 64))\n",
        "    img_array = image.img_to_array(img) / 255.0\n",
        "    img_array = np.expand_dims(img_array, axis=0)  # Add batch dimension\n",
        "\n",
        "    predictions = model.predict(img_array)\n",
        "    article_pred = np.argmax(predictions[0], axis=1)\n",
        "    color_pred = np.argmax(predictions[1], axis=1)\n",
        "    season_pred = np.argmax(predictions[2], axis=1)\n",
        "    gender_pred = np.argmax(predictions[3], axis=1)\n",
        "\n",
        "    article_type = article_encoder.inverse_transform(article_pred)[0]\n",
        "    color = color_encoder.inverse_transform(color_pred)[0]\n",
        "    season = season_encoder.inverse_transform(season_pred)[0]\n",
        "    gender = gender_encoder.inverse_transform(gender_pred)[0]\n",
        "\n",
        "    return article_type, color, season, gender\n",
        "\n",
        "image_path = '/kaggle/input/not-seen/black_st.jpg'\n",
        "article_type, color, season, gender = predict_fashion(image_path)\n",
        "print(f\"Article Type: {article_type}\")\n",
        "print(f\"Color: {color}\")\n",
        "print(f\"Season: {season}\")\n",
        "print(f\"Gender: {gender}\")"
      ],
      "metadata": {
        "trusted": true,
        "execution": {
          "iopub.status.busy": "2025-02-08T08:35:12.851039Z",
          "iopub.execute_input": "2025-02-08T08:35:12.851459Z",
          "iopub.status.idle": "2025-02-08T08:35:13.277954Z",
          "shell.execute_reply.started": "2025-02-08T08:35:12.85143Z",
          "shell.execute_reply": "2025-02-08T08:35:13.27687Z"
        },
        "id": "J614grWrJsCA"
      },
      "outputs": [],
      "execution_count": null
    },
    {
      "cell_type": "code",
      "source": [
        "image_path = '/kaggle/input/not-seen/blu_t_womwn.jpg'\n",
        "article_type, color, season, gender = predict_fashion(image_path)\n",
        "print(f\"Article Type: {article_type}\")\n",
        "print(f\"Color: {color}\")\n",
        "print(f\"Season: {season}\")\n",
        "print(f\"Gender: {gender}\")"
      ],
      "metadata": {
        "trusted": true,
        "execution": {
          "iopub.status.busy": "2025-02-08T08:35:41.166953Z",
          "iopub.execute_input": "2025-02-08T08:35:41.167354Z",
          "iopub.status.idle": "2025-02-08T08:35:41.385451Z",
          "shell.execute_reply.started": "2025-02-08T08:35:41.167324Z",
          "shell.execute_reply": "2025-02-08T08:35:41.384162Z"
        },
        "id": "l7SOQA6uJsCA"
      },
      "outputs": [],
      "execution_count": null
    },
    {
      "cell_type": "code",
      "source": [
        "image_path = '/kaggle/input/not-seen/blue_jn.jpg'\n",
        "article_type, color, season, gender = predict_fashion(image_path)\n",
        "print(f\"Article Type: {article_type}\")\n",
        "print(f\"Color: {color}\")\n",
        "print(f\"Season: {season}\")\n",
        "print(f\"Gender: {gender}\")"
      ],
      "metadata": {
        "trusted": true,
        "execution": {
          "iopub.status.busy": "2025-02-08T08:36:45.425954Z",
          "iopub.execute_input": "2025-02-08T08:36:45.42651Z",
          "iopub.status.idle": "2025-02-08T08:36:45.653809Z",
          "shell.execute_reply.started": "2025-02-08T08:36:45.426477Z",
          "shell.execute_reply": "2025-02-08T08:36:45.652803Z"
        },
        "id": "Yx_o7IUrJsCA"
      },
      "outputs": [],
      "execution_count": null
    },
    {
      "cell_type": "code",
      "source": [
        "image_path = '/kaggle/input/not-seen/socks.jpg'\n",
        "article_type, color, season, gender = predict_fashion(image_path)\n",
        "print(f\"Article Type: {article_type}\")\n",
        "print(f\"Color: {color}\")\n",
        "print(f\"Season: {season}\")\n",
        "print(f\"Gender: {gender}\")"
      ],
      "metadata": {
        "trusted": true,
        "execution": {
          "iopub.status.busy": "2025-02-08T08:38:30.685766Z",
          "iopub.execute_input": "2025-02-08T08:38:30.686184Z",
          "iopub.status.idle": "2025-02-08T08:38:30.888068Z",
          "shell.execute_reply.started": "2025-02-08T08:38:30.686148Z",
          "shell.execute_reply": "2025-02-08T08:38:30.886897Z"
        },
        "id": "qPPM1oIIJsCA"
      },
      "outputs": [],
      "execution_count": null
    }
  ]
}